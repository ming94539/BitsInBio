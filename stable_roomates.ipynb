{
 "cells": [
  {
   "cell_type": "code",
   "execution_count": 1,
   "metadata": {},
   "outputs": [],
   "source": [
    "from matching import Player"
   ]
  },
  {
   "cell_type": "code",
   "execution_count": null,
   "metadata": {},
   "outputs": [],
   "source": []
  },
  {
   "cell_type": "code",
   "execution_count": 47,
   "metadata": {},
   "outputs": [
    {
     "data": {
      "text/plain": [
       "{1: 6, 2: 4, 3: 5, 4: 2, 5: 3, 6: 1}"
      ]
     },
     "execution_count": 47,
     "metadata": {},
     "output_type": "execute_result"
    }
   ],
   "source": [
    "#Example that this works correctly on wiki example - https://en.wikipedia.org/wiki/Stable_roommates_problem#:~:text=of%20the%20rotation.-,Example,-%5Bedit%5D\n",
    "id_pref_matrix = dict()\n",
    "id_pref_matrix[\"1\"] = ' 3   4   2   6   5'.split()\n",
    "id_pref_matrix[\"2\"] = ' 6   5   4   1   3'.split()\n",
    "id_pref_matrix[\"3\"] = '2   4   5   1   6'.split()\n",
    "id_pref_matrix[\"4\"]= '5   2   3   6   1'.split()\n",
    "id_pref_matrix[\"5\"] = '3   1   2   4   6'.split()\n",
    "id_pref_matrix[\"6\"] = '5   1   3   4   2'.split()\n",
    "id_pref_matrix\n",
    "players = dict()\n",
    "for id in id_pref_matrix.keys():\n",
    "    players[id] = {'object':Player(id),'pref':id_pref_matrix[id]}\n",
    "# print(players)\n",
    "for id in players.keys():\n",
    "    pref_list = [players[id]['object'] for id in players[id]['pref']]\n",
    "    players[id]['object'].set_prefs(pref_list)\n",
    "\n",
    "\n",
    "players['1']['object'].prefs\n",
    "\n",
    "from matching.games import StableRoommates\n",
    "\n",
    "list_of_players = [players[id]['object'] for id in players]\n",
    "game = StableRoommates(list_of_players)\n",
    "game.solve()"
   ]
  },
  {
   "cell_type": "code",
   "execution_count": null,
   "metadata": {},
   "outputs": [],
   "source": []
  }
 ],
 "metadata": {
  "kernelspec": {
   "display_name": "Python 3",
   "language": "python",
   "name": "python3"
  },
  "language_info": {
   "codemirror_mode": {
    "name": "ipython",
    "version": 3
   },
   "file_extension": ".py",
   "mimetype": "text/x-python",
   "name": "python",
   "nbconvert_exporter": "python",
   "pygments_lexer": "ipython3",
   "version": "3.11.3"
  },
  "orig_nbformat": 4
 },
 "nbformat": 4,
 "nbformat_minor": 2
}
